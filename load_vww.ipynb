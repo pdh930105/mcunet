{
 "cells": [
  {
   "cell_type": "code",
   "execution_count": 14,
   "metadata": {},
   "outputs": [],
   "source": [
    "import pyvww\n",
    "import torch\n",
    "import torch.nn as nn\n",
    "import numpy as np\n",
    "from matplotlib import pyplot as plt\n",
    "from torchvision import transforms"
   ]
  },
  {
   "cell_type": "code",
   "execution_count": 18,
   "metadata": {},
   "outputs": [
    {
     "name": "stdout",
     "output_type": "stream",
     "text": [
      "loading annotations into memory...\n",
      "Done (t=3.68s)\n",
      "creating index...\n",
      "index created!\n"
     ]
    }
   ],
   "source": [
    "transform = transforms.Compose([\n",
    "    transforms.Resize((160, 160)),\n",
    "    transforms.ToTensor()\n",
    "])\n",
    "train_dataset = pyvww.pytorch.VisualWakeWordsClassification(root='/data/dataset/COCO/train2017', annFile='/data/dataset/VWW/annotations/instances_train.json',transform=transform)"
   ]
  },
  {
   "cell_type": "code",
   "execution_count": 19,
   "metadata": {},
   "outputs": [
    {
     "name": "stdout",
     "output_type": "stream",
     "text": [
      "tensor([[[0.0039, 0.0039, 0.0039,  ..., 0.5569, 0.5569, 0.5333],\n",
      "         [0.0039, 0.0000, 0.0039,  ..., 0.5686, 0.5647, 0.5412],\n",
      "         [0.0000, 0.0039, 0.0078,  ..., 0.5843, 0.5725, 0.5529],\n",
      "         ...,\n",
      "         [0.0549, 0.0863, 0.1216,  ..., 0.2588, 0.2275, 0.2157],\n",
      "         [0.0353, 0.0745, 0.1176,  ..., 0.2196, 0.2118, 0.1176],\n",
      "         [0.0275, 0.0588, 0.1059,  ..., 0.1333, 0.0471, 0.0196]],\n",
      "\n",
      "        [[0.0863, 0.0902, 0.0941,  ..., 0.7020, 0.6980, 0.6784],\n",
      "         [0.0863, 0.0980, 0.0980,  ..., 0.7098, 0.7059, 0.6941],\n",
      "         [0.0902, 0.1020, 0.1059,  ..., 0.7255, 0.7176, 0.7020],\n",
      "         ...,\n",
      "         [0.0314, 0.0588, 0.0549,  ..., 0.3608, 0.3294, 0.3255],\n",
      "         [0.0157, 0.0510, 0.0667,  ..., 0.3098, 0.3020, 0.1922],\n",
      "         [0.0078, 0.0353, 0.0706,  ..., 0.2039, 0.0980, 0.0392]],\n",
      "\n",
      "        [[0.4353, 0.4510, 0.4588,  ..., 0.8039, 0.8000, 0.7804],\n",
      "         [0.4431, 0.4510, 0.4627,  ..., 0.8196, 0.8118, 0.7961],\n",
      "         [0.4549, 0.4588, 0.4667,  ..., 0.8392, 0.8235, 0.8078],\n",
      "         ...,\n",
      "         [0.0431, 0.0392, 0.0235,  ..., 0.5451, 0.5020, 0.4863],\n",
      "         [0.0314, 0.0431, 0.0314,  ..., 0.4863, 0.4431, 0.3020],\n",
      "         [0.0235, 0.0471, 0.0510,  ..., 0.3569, 0.2118, 0.1373]]]) 0\n"
     ]
    }
   ],
   "source": [
    "count = 0\n",
    "for data, label in train_dataset:\n",
    "    print(data, label)\n",
    "    break\n",
    "    if label == 1:\n",
    "        plt.imshow(data)\n",
    "        count=count+1\n",
    "        if count == 2:        \n",
    "            break\n",
    "    "
   ]
  },
  {
   "cell_type": "code",
   "execution_count": 20,
   "metadata": {},
   "outputs": [
    {
     "data": {
      "text/plain": [
       "tensor([[[0.0039, 0.0039, 0.0039,  ..., 0.5569, 0.5569, 0.5333],\n",
       "         [0.0039, 0.0000, 0.0039,  ..., 0.5686, 0.5647, 0.5412],\n",
       "         [0.0000, 0.0039, 0.0078,  ..., 0.5843, 0.5725, 0.5529],\n",
       "         ...,\n",
       "         [0.0549, 0.0863, 0.1216,  ..., 0.2588, 0.2275, 0.2157],\n",
       "         [0.0353, 0.0745, 0.1176,  ..., 0.2196, 0.2118, 0.1176],\n",
       "         [0.0275, 0.0588, 0.1059,  ..., 0.1333, 0.0471, 0.0196]],\n",
       "\n",
       "        [[0.0863, 0.0902, 0.0941,  ..., 0.7020, 0.6980, 0.6784],\n",
       "         [0.0863, 0.0980, 0.0980,  ..., 0.7098, 0.7059, 0.6941],\n",
       "         [0.0902, 0.1020, 0.1059,  ..., 0.7255, 0.7176, 0.7020],\n",
       "         ...,\n",
       "         [0.0314, 0.0588, 0.0549,  ..., 0.3608, 0.3294, 0.3255],\n",
       "         [0.0157, 0.0510, 0.0667,  ..., 0.3098, 0.3020, 0.1922],\n",
       "         [0.0078, 0.0353, 0.0706,  ..., 0.2039, 0.0980, 0.0392]],\n",
       "\n",
       "        [[0.4353, 0.4510, 0.4588,  ..., 0.8039, 0.8000, 0.7804],\n",
       "         [0.4431, 0.4510, 0.4627,  ..., 0.8196, 0.8118, 0.7961],\n",
       "         [0.4549, 0.4588, 0.4667,  ..., 0.8392, 0.8235, 0.8078],\n",
       "         ...,\n",
       "         [0.0431, 0.0392, 0.0235,  ..., 0.5451, 0.5020, 0.4863],\n",
       "         [0.0314, 0.0431, 0.0314,  ..., 0.4863, 0.4431, 0.3020],\n",
       "         [0.0235, 0.0471, 0.0510,  ..., 0.3569, 0.2118, 0.1373]]])"
      ]
     },
     "execution_count": 20,
     "metadata": {},
     "output_type": "execute_result"
    }
   ],
   "source": [
    "data"
   ]
  },
  {
   "cell_type": "code",
   "execution_count": null,
   "metadata": {},
   "outputs": [],
   "source": []
  }
 ],
 "metadata": {
  "kernelspec": {
   "display_name": "base",
   "language": "python",
   "name": "python3"
  },
  "language_info": {
   "codemirror_mode": {
    "name": "ipython",
    "version": 3
   },
   "file_extension": ".py",
   "mimetype": "text/x-python",
   "name": "python",
   "nbconvert_exporter": "python",
   "pygments_lexer": "ipython3",
   "version": "3.8.13"
  },
  "orig_nbformat": 4
 },
 "nbformat": 4,
 "nbformat_minor": 2
}

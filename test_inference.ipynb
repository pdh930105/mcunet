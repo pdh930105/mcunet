{
 "cells": [
  {
   "cell_type": "code",
   "execution_count": 9,
   "metadata": {},
   "outputs": [],
   "source": [
    "import torch\n",
    "import torch.nn as nn\n",
    "import torch.nn.functional as F\n",
    "import numpy as np\n",
    "import copy\n",
    "import sys\n",
    "\n",
    "sys.path.append('./mcunet')\n",
    "\n",
    "from mcunet.gumbel_module.gumbel_net import GumbelMCUNet\n",
    "from mcunet.gumbel_module.gumbel_layer import MBGumbelInvertedConvLayer, MobileGumbelInvertedResidualBlock, count_conv_gumbel_flops\n",
    "from mcunet.tinynas.nn.modules import MBInvertedConvLayer\n",
    "from mcunet.tinynas.nn.networks import MobileInvertedResidualBlock\n",
    "from mcunet.model_zoo import build_model\n",
    "\n",
    "from mcunet.utils import MyModule, MyNetwork, SEModule, build_activation, get_same_padding, sub_filter_start_end, rm_bn_from_net, set_deep_attr, get_deep_attr, has_deep_attr\n",
    "from mcunet.tinynas.nn.modules import ZeroLayer, set_layer_from_config\n",
    "\n",
    "from fvcore.nn import FlopCountAnalysis"
   ]
  },
  {
   "cell_type": "code",
   "execution_count": 10,
   "metadata": {},
   "outputs": [
    {
     "name": "stdout",
     "output_type": "stream",
     "text": [
      "load pretrained mcu model parameter to gumbel net\n",
      "load pretrained mcu model buffer to gumbel net\n"
     ]
    }
   ],
   "source": [
    "ori_model, img_size, desc = build_model(net_id='mcunet-in4', pretrained=True)\n",
    "gubmel_config = {'global_expand_ratio_list':[1,3,4,5,6], 'global_kernel_size_list':[3,5,7], 'gumbel_feature_extract_block_idx':2}\n",
    "gumbel_model = GumbelMCUNet.build_from_config(ori_model.config, gubmel_config)\n",
    "gumbel_model.load_pretrained_mcunet_param(ori_model)"
   ]
  },
  {
   "cell_type": "code",
   "execution_count": 11,
   "metadata": {},
   "outputs": [],
   "source": [
    "from src import distrib\n",
    "from src import dataset\n",
    "from src.trainer import Trainer\n",
    "from easydict import EasyDict as edict"
   ]
  },
  {
   "cell_type": "code",
   "execution_count": 12,
   "metadata": {},
   "outputs": [],
   "source": [
    "args = edict()\n",
    "args.db = edict()\n",
    "args.db.name = 'imagenet'\n",
    "args.db.root = '/dataset/ImageNet/Classification/'\n",
    "args.flops_penalty = 0.0\n",
    "args.lr_sched = None\n",
    "args.device = 0\n",
    "args.epochs = 0\n",
    "args.max_norm = 0.5\n",
    "args.continue_from = False\n",
    "args.checkpoint = None\n",
    "args.history_file = None\n",
    "args.restart=False\n",
    "args.num_prints=10\n",
    "args.mixed=False"
   ]
  },
  {
   "cell_type": "code",
   "execution_count": 5,
   "metadata": {},
   "outputs": [],
   "source": [
    "train_dataset, test_dataset, num_class = dataset.get_loader(args, img_resize=160)\n",
    "data_loader = torch.utils.data.DataLoader(train_dataset, batch_size=512, shuffle=False, num_workers=4)\n",
    "data= {'tr':train_dataset, 'tt':data_loader}"
   ]
  },
  {
   "cell_type": "code",
   "execution_count": 6,
   "metadata": {},
   "outputs": [],
   "source": [
    "criterion = nn.CrossEntropyLoss()\n",
    "optimizer = None\n",
    "original_flops = 100000\n",
    "ori_trainer = Trainer(data, ori_model.cuda(), criterion, optimizer, args, original_flops)\n",
    "gumbel_trainer = Trainer(data, gumbel_model.cuda(), criterion, optimizer, args, original_flops)\n"
   ]
  },
  {
   "cell_type": "code",
   "execution_count": 14,
   "metadata": {},
   "outputs": [
    {
     "data": {
      "text/plain": [
       "False"
      ]
     },
     "execution_count": 14,
     "metadata": {},
     "output_type": "execute_result"
    }
   ],
   "source": [
    "gumbel_trainer.dmodel == gumbel_trainer"
   ]
  },
  {
   "cell_type": "code",
   "execution_count": 7,
   "metadata": {},
   "outputs": [
    {
     "name": "stdout",
     "output_type": "stream",
     "text": [
      "inverted_bottleneck.bn\n",
      "depth_conv.bn\n",
      "point_linear.bn\n",
      "inverted_bottleneck.bn\n",
      "depth_conv.bn\n",
      "point_linear.bn\n",
      "inverted_bottleneck.bn\n",
      "depth_conv.bn\n",
      "point_linear.bn\n",
      "inverted_bottleneck.bn\n",
      "depth_conv.bn\n",
      "point_linear.bn\n",
      "inverted_bottleneck.bn\n",
      "depth_conv.bn\n",
      "point_linear.bn\n",
      "inverted_bottleneck.bn\n",
      "depth_conv.bn\n",
      "point_linear.bn\n",
      "inverted_bottleneck.bn\n",
      "depth_conv.bn\n",
      "point_linear.bn\n",
      "inverted_bottleneck.bn\n",
      "depth_conv.bn\n",
      "point_linear.bn\n",
      "inverted_bottleneck.bn\n",
      "depth_conv.bn\n",
      "point_linear.bn\n",
      "inverted_bottleneck.bn\n",
      "depth_conv.bn\n",
      "point_linear.bn\n",
      "inverted_bottleneck.bn\n",
      "depth_conv.bn\n",
      "point_linear.bn\n",
      "inverted_bottleneck.bn\n",
      "depth_conv.bn\n",
      "point_linear.bn\n",
      "inverted_bottleneck.bn\n",
      "depth_conv.bn\n",
      "point_linear.bn\n",
      "inverted_bottleneck.bn\n",
      "depth_conv.bn\n",
      "point_linear.bn\n",
      "inverted_bottleneck.bn\n",
      "depth_conv.bn\n",
      "point_linear.bn\n"
     ]
    }
   ],
   "source": [
    "for n, m in gumbel_model.named_modules():\n",
    "    if isinstance(m, MBGumbelInvertedConvLayer):\n",
    "        for nnn, mb_inv_m in m.named_modules():\n",
    "            if isinstance(mb_inv_m, torch.nn.BatchNorm2d):\n",
    "                print(nnn)\n",
    "                mb_inv_m.eval()\n",
    "                "
   ]
  },
  {
   "cell_type": "code",
   "execution_count": null,
   "metadata": {},
   "outputs": [],
   "source": [
    "ori_trainer.test(ori_model=True)"
   ]
  },
  {
   "cell_type": "code",
   "execution_count": null,
   "metadata": {},
   "outputs": [],
   "source": [
    "gumbel_trainer.test(ori_model=True)"
   ]
  },
  {
   "cell_type": "code",
   "execution_count": null,
   "metadata": {},
   "outputs": [],
   "source": [
    "gumbel_model.eval()\n",
    "ori_model.eval()\n",
    "for n, m in gumbel_model.named_modules():\n",
    "    if has_deep_attr(ori_model, n):\n",
    "        if isinstance(m, MobileGumbelInvertedResidualBlock):\n",
    "            ori_m = get_deep_attr(ori_model, n)\n",
    "            m = m.cuda()\n",
    "            ori_m = ori_m.cuda()\n",
    "            in_c = ori_m.mobile_inverted_conv.in_channels\n",
    "            input_rand_tensor = torch.randn(1, in_c, 16, 16).cuda()\n",
    "            ori_out = ori_m(input_rand_tensor)\n",
    "            out = m(input_rand_tensor)\n",
    "            print(f\"module name : {n}\")\n",
    "            print(\"distance : \", ori_out-out)\n",
    "            print(\"==\"*20)"
   ]
  },
  {
   "cell_type": "code",
   "execution_count": null,
   "metadata": {},
   "outputs": [],
   "source": [
    "inputs_test = torch.randn(1,3, 160, 160).cuda()\n",
    "ori_model = ori_model.cuda()\n",
    "gumbel_model = gumbel_model.cuda()\n",
    "ori_output = ori_model.first_conv(inputs_test)\n",
    "gumbel_output = gumbel_model.first_conv(inputs_test)\n",
    "print(\"difference : \", ori_output - gumbel_output)\n",
    "\n",
    "for i in range(len(ori_model.blocks)):\n",
    "    ori_output = ori_model.blocks[i](ori_output)\n",
    "    gumbel_output = gumbel_model.blocks[i](gumbel_output)\n",
    "    print(f\"{i}'s difference : \", ori_output - gumbel_output)"
   ]
  },
  {
   "cell_type": "code",
   "execution_count": null,
   "metadata": {},
   "outputs": [],
   "source": [
    "ori_output"
   ]
  },
  {
   "cell_type": "code",
   "execution_count": null,
   "metadata": {},
   "outputs": [],
   "source": [
    "gumbel_output"
   ]
  },
  {
   "cell_type": "code",
   "execution_count": null,
   "metadata": {},
   "outputs": [],
   "source": [
    "ori_output = ori_output.mean(3).mean(2)\n",
    "gumbel_output = gumbel_output.mean(3).mean(2)\n",
    "ori_output = ori_model.classifier(ori_output)\n",
    "gumbel_output = gumbel_model.classifier(gumbel_output)\n",
    "print(\"difference : \", (ori_output - gumbel_output))"
   ]
  },
  {
   "cell_type": "code",
   "execution_count": null,
   "metadata": {},
   "outputs": [],
   "source": []
  }
 ],
 "metadata": {
  "kernelspec": {
   "display_name": "base",
   "language": "python",
   "name": "python3"
  },
  "language_info": {
   "codemirror_mode": {
    "name": "ipython",
    "version": 3
   },
   "file_extension": ".py",
   "mimetype": "text/x-python",
   "name": "python",
   "nbconvert_exporter": "python",
   "pygments_lexer": "ipython3",
   "version": "3.8.13"
  },
  "orig_nbformat": 4
 },
 "nbformat": 4,
 "nbformat_minor": 2
}
